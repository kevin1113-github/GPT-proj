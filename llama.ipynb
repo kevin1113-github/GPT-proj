{
 "cells": [
  {
   "cell_type": "code",
   "execution_count": 1,
   "metadata": {},
   "outputs": [
    {
     "name": "stderr",
     "output_type": "stream",
     "text": [
      "Loading checkpoint shards: 100%|██████████| 2/2 [00:00<00:00,  9.91it/s]\n",
      "Setting `pad_token_id` to `eos_token_id`:None for open-end generation.\n"
     ]
    },
    {
     "data": {
      "text/plain": [
       "[{'generated_text': 'Once upon a time, I had a friend who was a really good photographer. He was also a really good cook. He had a really good job. And he was really good at a lot of things.\\nBut he was also really good at a lot of things.'}]"
      ]
     },
     "execution_count": 1,
     "metadata": {},
     "output_type": "execute_result"
    }
   ],
   "source": [
    "import torch\n",
    "from transformers import pipeline\n",
    "\n",
    "from huggingface_hub.hf_api import HfFolder\n",
    "import huggingface_token as hf_token\n",
    "HfFolder.save_token(hf_token.token)\n",
    "\n",
    "model_id = 'meta-llama/Llama-3.2-3B'\n",
    "device = torch.device('mps') if torch.backends.mps.is_available else torch.device('cpu')\n",
    "generator = pipeline('text-generation', model=model_id, torch_dtype=torch.bfloat16, device=device)\n",
    "\n",
    "input_text = \"Once upon a time\"\n",
    "generator(input_text, max_new_tokens=50)"
   ]
  },
  {
   "cell_type": "code",
   "execution_count": null,
   "metadata": {},
   "outputs": [],
   "source": [
    "generator.generation_config.pad_token_id = generator.tokenizer.eos_token_id"
   ]
  },
  {
   "cell_type": "code",
   "execution_count": null,
   "metadata": {},
   "outputs": [],
   "source": [
    "while True:\n",
    "  input_text = input(\"You: \")\n",
    "  if input_text == \"exit\":\n",
    "    break\n",
    "  print(generator(input_text, max_new_tokens=50))"
   ]
  }
 ],
 "metadata": {
  "kernelspec": {
   "display_name": "pytorch",
   "language": "python",
   "name": "python3"
  },
  "language_info": {
   "codemirror_mode": {
    "name": "ipython",
    "version": 3
   },
   "file_extension": ".py",
   "mimetype": "text/x-python",
   "name": "python",
   "nbconvert_exporter": "python",
   "pygments_lexer": "ipython3",
   "version": "3.13.0"
  }
 },
 "nbformat": 4,
 "nbformat_minor": 2
}
