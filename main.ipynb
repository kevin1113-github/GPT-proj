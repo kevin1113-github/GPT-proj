{
 "cells": [
  {
   "cell_type": "code",
   "execution_count": 1,
   "metadata": {},
   "outputs": [
    {
     "name": "stderr",
     "output_type": "stream",
     "text": [
      "/Users/kevin/Documents/GitHub/GPT-proj/GPT-proj/lib/python3.13/site-packages/tqdm/auto.py:21: TqdmWarning: IProgress not found. Please update jupyter and ipywidgets. See https://ipywidgets.readthedocs.io/en/stable/user_install.html\n",
      "  from .autonotebook import tqdm as notebook_tqdm\n",
      "Asking to truncate to max_length but no maximum length is provided and the model has no predefined maximum length. Default to no truncation.\n",
      "huggingface/tokenizers: The current process just got forked, after parallelism has already been used. Disabling parallelism to avoid deadlocks...\n",
      "To disable this warning, you can either:\n",
      "\t- Avoid using `tokenizers` before the fork if possible\n",
      "\t- Explicitly set the environment variable TOKENIZERS_PARALLELISM=(true | false)\n",
      "100%|██████████| 3/3 [00:03<00:00,  1.06s/it]"
     ]
    },
    {
     "name": "stdout",
     "output_type": "stream",
     "text": [
      "{'train_runtime': 3.1915, 'train_samples_per_second': 0.94, 'train_steps_per_second': 0.94, 'train_loss': 1.9230230649312336, 'epoch': 3.0}\n"
     ]
    },
    {
     "name": "stderr",
     "output_type": "stream",
     "text": [
      "\n"
     ]
    },
    {
     "data": {
      "text/plain": [
       "TrainOutput(global_step=3, training_loss=1.9230230649312336, metrics={'train_runtime': 3.1915, 'train_samples_per_second': 0.94, 'train_steps_per_second': 0.94, 'total_flos': 13779072000.0, 'train_loss': 1.9230230649312336, 'epoch': 3.0})"
      ]
     },
     "execution_count": 1,
     "metadata": {},
     "output_type": "execute_result"
    }
   ],
   "source": [
    "import torch\n",
    "from transformers import AutoTokenizer, AutoModelForCausalLM, Trainer, TrainingArguments\n",
    "\n",
    "# 모델과 토크나이저 로드\n",
    "model_name = 'skt/kogpt2-base-v2'\n",
    "tokenizer = AutoTokenizer.from_pretrained(model_name)\n",
    "tokenizer.pad_token = tokenizer.eos_token  # eos_token을 pad_token으로 설정\n",
    "model = AutoModelForCausalLM.from_pretrained(model_name)\n",
    "\n",
    "# 모델을 mps 장치로 이동\n",
    "device = torch.device('mps')\n",
    "model.to(device)\n",
    "\n",
    "# 데이터셋 준비\n",
    "train_texts = [\"여기에 학습용 텍스트를 추가하세요.\"]\n",
    "train_encodings = tokenizer(train_texts, return_tensors='pt', padding=True, truncation=True)\n",
    "\n",
    "# labels 추가\n",
    "train_encodings['labels'] = train_encodings.input_ids.clone()\n",
    "\n",
    "class TextDataset(torch.utils.data.Dataset):\n",
    "  def __init__(self, encodings):\n",
    "    self.encodings = encodings\n",
    "\n",
    "  def __getitem__(self, idx):\n",
    "    return {key: tensor[idx] for key, tensor in self.encodings.items()}\n",
    "\n",
    "  def __len__(self):\n",
    "    return len(self.encodings.input_ids)\n",
    "\n",
    "train_dataset = TextDataset(train_encodings)\n",
    "\n",
    "# 학습 설정\n",
    "training_args = TrainingArguments(\n",
    "  output_dir='./results',\n",
    "  num_train_epochs=3,\n",
    "  per_device_train_batch_size=2,\n",
    "  save_steps=10_000,\n",
    "  save_total_limit=2,\n",
    "  logging_dir='./logs',\n",
    ")\n",
    "\n",
    "# Trainer 설정\n",
    "trainer = Trainer(\n",
    "  model=model,\n",
    "  args=training_args,\n",
    "  train_dataset=train_dataset,\n",
    ")\n",
    "\n",
    "# 학습 시작\n",
    "trainer.train()"
   ]
  },
  {
   "cell_type": "code",
   "execution_count": 2,
   "metadata": {},
   "outputs": [
    {
     "name": "stdout",
     "output_type": "stream",
     "text": [
      "여기에 학습용 텍스트를 추가하세요. 학습용 텍스트를 추가하세요..\n",
      "#학습용 텍스트를 추가하세요..\n",
      "#학습용 텍스트를 추가하세요..\n",
      "#학습용 텍스트를 추가하세요..\n",
      "#\n"
     ]
    }
   ],
   "source": [
    "# 텍스트 생성 함수 정의\n",
    "def generate_text(prompt, max_length=50):\n",
    "  # 입력 텍스트를 토큰화\n",
    "  inputs = tokenizer(prompt, return_tensors='pt').to(device)\n",
    "  \n",
    "  # 모델을 사용하여 텍스트 생성\n",
    "  outputs = model.generate(inputs.input_ids, max_length=max_length, num_return_sequences=1, pad_token_id=tokenizer.eos_token_id)\n",
    "  \n",
    "  # 생성된 텍스트 디코딩\n",
    "  generated_text = tokenizer.decode(outputs[0], skip_special_tokens=True)\n",
    "  \n",
    "  return generated_text\n",
    "\n",
    "# 예시 텍스트 생성\n",
    "prompt = \"여기에\"\n",
    "generated_text = generate_text(prompt)\n",
    "print(generated_text)"
   ]
  }
 ],
 "metadata": {
  "kernelspec": {
   "display_name": "GPT-proj",
   "language": "python",
   "name": "python3"
  },
  "language_info": {
   "codemirror_mode": {
    "name": "ipython",
    "version": 3
   },
   "file_extension": ".py",
   "mimetype": "text/x-python",
   "name": "python",
   "nbconvert_exporter": "python",
   "pygments_lexer": "ipython3",
   "version": "3.13.0"
  }
 },
 "nbformat": 4,
 "nbformat_minor": 2
}
